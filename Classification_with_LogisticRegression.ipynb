{
  "cells": [
    {
      "cell_type": "markdown",
      "metadata": {
        "id": "YtIuUwG9VAH4"
      },
      "source": [
        "# Classification with Logistic Regression\n",
        "\n",
        "## The Dataset\n",
        "\n",
        "AIM: To explain how machine learning can help in a bank marketing campaign. The goal of our classifier is to predict, using a logistic regression, if a client may subscribe to a fixed term deposit. Often, more than one contact to the same client was required, in order to access if the product (bank term deposit) would be (‘yes’) or not (‘no’) subscribed.\n",
        "\n",
        "The dataset contains both numerical and categorical input variables, while the response variable ('target') takes value 1 in case of 'yes' and 0 in case of 'no'.\n",
        "\n",
        "You can read more about the data and the variables [here](https://archive.ics.uci.edu/ml/datasets/bank+marketing)."
      ]
    },
    {
      "cell_type": "code",
      "execution_count": 1,
      "metadata": {
        "id": "NkVuBc6jVAH9"
      },
      "outputs": [],
      "source": [
        "# You may need these\n",
        "import pandas as pd\n",
        "import numpy as np\n",
        "from sklearn.model_selection import train_test_split\n",
        "from sklearn.linear_model import LogisticRegression\n",
        "from sklearn.metrics import confusion_matrix, roc_curve, precision_recall_curve, auc\n",
        "\n",
        "\n",
        "import matplotlib.pyplot as plt\n",
        "%matplotlib inline"
      ]
    },
    {
      "cell_type": "markdown",
      "metadata": {
        "id": "-VEMPe8HVAIA"
      },
      "source": [
        "##1"
      ]
    },
    {
      "cell_type": "markdown",
      "metadata": {
        "id": "xew5cTpaVAIB"
      },
      "source": [
        "1. Read in the `bank_A3.csv` dataset and display the first 5 rows.\n",
        "2. Print out all columns in the dataset and list categorical variables. Use the build-in function `get_dummies()` to convert all categorical variables (**exclude target variable**) to dummy variables. You may read the official explanations for more information on `get_dummies()` [here](https://pandas.pydata.org/docs/reference/api/pandas.get_dummies.html). What's the size of the dataframe after transforming it?\n",
        "3. Map the target values from yes/no to 1/0. What is the baseline accuracy for this classification problem? Round into 1 decimal place (for example, 50.1% or 0.501)."
      ]
    },
    {
      "cell_type": "markdown",
      "metadata": {
        "id": "YnaaSYOHVAID"
      },
      "source": [
        "1.1 Read the dataset and display the first 5 rows"
      ]
    },
    {
      "cell_type": "code",
      "execution_count": 2,
      "metadata": {
        "id": "QqmKCVBxVAIF",
        "colab": {
          "base_uri": "https://localhost:8080/",
          "height": 270
        },
        "outputId": "34cac56b-21cd-4a70-98f5-8fdcd913e86e"
      },
      "outputs": [
        {
          "output_type": "execute_result",
          "data": {
            "text/html": [
              "\n",
              "  <div id=\"df-54c2fc21-eb55-4441-80c7-0463caadf863\">\n",
              "    <div class=\"colab-df-container\">\n",
              "      <div>\n",
              "<style scoped>\n",
              "    .dataframe tbody tr th:only-of-type {\n",
              "        vertical-align: middle;\n",
              "    }\n",
              "\n",
              "    .dataframe tbody tr th {\n",
              "        vertical-align: top;\n",
              "    }\n",
              "\n",
              "    .dataframe thead th {\n",
              "        text-align: right;\n",
              "    }\n",
              "</style>\n",
              "<table border=\"1\" class=\"dataframe\">\n",
              "  <thead>\n",
              "    <tr style=\"text-align: right;\">\n",
              "      <th></th>\n",
              "      <th>age</th>\n",
              "      <th>job</th>\n",
              "      <th>marital</th>\n",
              "      <th>education</th>\n",
              "      <th>default</th>\n",
              "      <th>balance</th>\n",
              "      <th>housing</th>\n",
              "      <th>loan</th>\n",
              "      <th>day</th>\n",
              "      <th>month</th>\n",
              "      <th>duration</th>\n",
              "      <th>campaign</th>\n",
              "      <th>pdays</th>\n",
              "      <th>previous</th>\n",
              "      <th>poutcome</th>\n",
              "      <th>target</th>\n",
              "    </tr>\n",
              "  </thead>\n",
              "  <tbody>\n",
              "    <tr>\n",
              "      <th>0</th>\n",
              "      <td>58</td>\n",
              "      <td>management</td>\n",
              "      <td>married</td>\n",
              "      <td>tertiary</td>\n",
              "      <td>0</td>\n",
              "      <td>2143</td>\n",
              "      <td>1</td>\n",
              "      <td>0</td>\n",
              "      <td>5</td>\n",
              "      <td>may</td>\n",
              "      <td>4.35</td>\n",
              "      <td>1</td>\n",
              "      <td>-1</td>\n",
              "      <td>0</td>\n",
              "      <td>unknown</td>\n",
              "      <td>no</td>\n",
              "    </tr>\n",
              "    <tr>\n",
              "      <th>1</th>\n",
              "      <td>44</td>\n",
              "      <td>technician</td>\n",
              "      <td>single</td>\n",
              "      <td>secondary</td>\n",
              "      <td>0</td>\n",
              "      <td>29</td>\n",
              "      <td>1</td>\n",
              "      <td>0</td>\n",
              "      <td>5</td>\n",
              "      <td>may</td>\n",
              "      <td>2.52</td>\n",
              "      <td>1</td>\n",
              "      <td>-1</td>\n",
              "      <td>0</td>\n",
              "      <td>unknown</td>\n",
              "      <td>no</td>\n",
              "    </tr>\n",
              "    <tr>\n",
              "      <th>2</th>\n",
              "      <td>33</td>\n",
              "      <td>entrepreneur</td>\n",
              "      <td>married</td>\n",
              "      <td>secondary</td>\n",
              "      <td>0</td>\n",
              "      <td>2</td>\n",
              "      <td>1</td>\n",
              "      <td>1</td>\n",
              "      <td>5</td>\n",
              "      <td>may</td>\n",
              "      <td>1.27</td>\n",
              "      <td>1</td>\n",
              "      <td>-1</td>\n",
              "      <td>0</td>\n",
              "      <td>unknown</td>\n",
              "      <td>no</td>\n",
              "    </tr>\n",
              "    <tr>\n",
              "      <th>3</th>\n",
              "      <td>35</td>\n",
              "      <td>management</td>\n",
              "      <td>married</td>\n",
              "      <td>tertiary</td>\n",
              "      <td>0</td>\n",
              "      <td>231</td>\n",
              "      <td>1</td>\n",
              "      <td>0</td>\n",
              "      <td>5</td>\n",
              "      <td>may</td>\n",
              "      <td>2.32</td>\n",
              "      <td>1</td>\n",
              "      <td>-1</td>\n",
              "      <td>0</td>\n",
              "      <td>unknown</td>\n",
              "      <td>no</td>\n",
              "    </tr>\n",
              "    <tr>\n",
              "      <th>4</th>\n",
              "      <td>28</td>\n",
              "      <td>management</td>\n",
              "      <td>single</td>\n",
              "      <td>tertiary</td>\n",
              "      <td>0</td>\n",
              "      <td>447</td>\n",
              "      <td>1</td>\n",
              "      <td>1</td>\n",
              "      <td>5</td>\n",
              "      <td>may</td>\n",
              "      <td>3.62</td>\n",
              "      <td>1</td>\n",
              "      <td>-1</td>\n",
              "      <td>0</td>\n",
              "      <td>unknown</td>\n",
              "      <td>no</td>\n",
              "    </tr>\n",
              "  </tbody>\n",
              "</table>\n",
              "</div>\n",
              "      <button class=\"colab-df-convert\" onclick=\"convertToInteractive('df-54c2fc21-eb55-4441-80c7-0463caadf863')\"\n",
              "              title=\"Convert this dataframe to an interactive table.\"\n",
              "              style=\"display:none;\">\n",
              "        \n",
              "  <svg xmlns=\"http://www.w3.org/2000/svg\" height=\"24px\"viewBox=\"0 0 24 24\"\n",
              "       width=\"24px\">\n",
              "    <path d=\"M0 0h24v24H0V0z\" fill=\"none\"/>\n",
              "    <path d=\"M18.56 5.44l.94 2.06.94-2.06 2.06-.94-2.06-.94-.94-2.06-.94 2.06-2.06.94zm-11 1L8.5 8.5l.94-2.06 2.06-.94-2.06-.94L8.5 2.5l-.94 2.06-2.06.94zm10 10l.94 2.06.94-2.06 2.06-.94-2.06-.94-.94-2.06-.94 2.06-2.06.94z\"/><path d=\"M17.41 7.96l-1.37-1.37c-.4-.4-.92-.59-1.43-.59-.52 0-1.04.2-1.43.59L10.3 9.45l-7.72 7.72c-.78.78-.78 2.05 0 2.83L4 21.41c.39.39.9.59 1.41.59.51 0 1.02-.2 1.41-.59l7.78-7.78 2.81-2.81c.8-.78.8-2.07 0-2.86zM5.41 20L4 18.59l7.72-7.72 1.47 1.35L5.41 20z\"/>\n",
              "  </svg>\n",
              "      </button>\n",
              "      \n",
              "  <style>\n",
              "    .colab-df-container {\n",
              "      display:flex;\n",
              "      flex-wrap:wrap;\n",
              "      gap: 12px;\n",
              "    }\n",
              "\n",
              "    .colab-df-convert {\n",
              "      background-color: #E8F0FE;\n",
              "      border: none;\n",
              "      border-radius: 50%;\n",
              "      cursor: pointer;\n",
              "      display: none;\n",
              "      fill: #1967D2;\n",
              "      height: 32px;\n",
              "      padding: 0 0 0 0;\n",
              "      width: 32px;\n",
              "    }\n",
              "\n",
              "    .colab-df-convert:hover {\n",
              "      background-color: #E2EBFA;\n",
              "      box-shadow: 0px 1px 2px rgba(60, 64, 67, 0.3), 0px 1px 3px 1px rgba(60, 64, 67, 0.15);\n",
              "      fill: #174EA6;\n",
              "    }\n",
              "\n",
              "    [theme=dark] .colab-df-convert {\n",
              "      background-color: #3B4455;\n",
              "      fill: #D2E3FC;\n",
              "    }\n",
              "\n",
              "    [theme=dark] .colab-df-convert:hover {\n",
              "      background-color: #434B5C;\n",
              "      box-shadow: 0px 1px 3px 1px rgba(0, 0, 0, 0.15);\n",
              "      filter: drop-shadow(0px 1px 2px rgba(0, 0, 0, 0.3));\n",
              "      fill: #FFFFFF;\n",
              "    }\n",
              "  </style>\n",
              "\n",
              "      <script>\n",
              "        const buttonEl =\n",
              "          document.querySelector('#df-54c2fc21-eb55-4441-80c7-0463caadf863 button.colab-df-convert');\n",
              "        buttonEl.style.display =\n",
              "          google.colab.kernel.accessAllowed ? 'block' : 'none';\n",
              "\n",
              "        async function convertToInteractive(key) {\n",
              "          const element = document.querySelector('#df-54c2fc21-eb55-4441-80c7-0463caadf863');\n",
              "          const dataTable =\n",
              "            await google.colab.kernel.invokeFunction('convertToInteractive',\n",
              "                                                     [key], {});\n",
              "          if (!dataTable) return;\n",
              "\n",
              "          const docLinkHtml = 'Like what you see? Visit the ' +\n",
              "            '<a target=\"_blank\" href=https://colab.research.google.com/notebooks/data_table.ipynb>data table notebook</a>'\n",
              "            + ' to learn more about interactive tables.';\n",
              "          element.innerHTML = '';\n",
              "          dataTable['output_type'] = 'display_data';\n",
              "          await google.colab.output.renderOutput(dataTable, element);\n",
              "          const docLink = document.createElement('div');\n",
              "          docLink.innerHTML = docLinkHtml;\n",
              "          element.appendChild(docLink);\n",
              "        }\n",
              "      </script>\n",
              "    </div>\n",
              "  </div>\n",
              "  "
            ],
            "text/plain": [
              "   age           job  marital  education  ...  pdays  previous  poutcome  target\n",
              "0   58    management  married   tertiary  ...     -1         0   unknown      no\n",
              "1   44    technician   single  secondary  ...     -1         0   unknown      no\n",
              "2   33  entrepreneur  married  secondary  ...     -1         0   unknown      no\n",
              "3   35    management  married   tertiary  ...     -1         0   unknown      no\n",
              "4   28    management   single   tertiary  ...     -1         0   unknown      no\n",
              "\n",
              "[5 rows x 16 columns]"
            ]
          },
          "metadata": {},
          "execution_count": 2
        }
      ],
      "source": [
        "# Loading in the data.\n",
        "bank = pd.read_csv('Bank_A3.csv')\n",
        "bank.head()"
      ]
    },
    {
      "cell_type": "markdown",
      "metadata": {
        "id": "aM5kGQsKVAIH"
      },
      "source": [
        "1.2 Print out all columns in the dataset and **list** all categorical variables in the answer part. Use the build-in function `get_dummies()` to convert all categorical variables (**excluding `target` variable**) to dummy variables. What's the size of the dataframe after transforming?"
      ]
    },
    {
      "cell_type": "code",
      "execution_count": 3,
      "metadata": {
        "scrolled": true,
        "id": "b2ul-mPMVAII",
        "colab": {
          "base_uri": "https://localhost:8080/"
        },
        "outputId": "1c44c81f-2213-48de-9a26-0ccf68b9cb3c"
      },
      "outputs": [
        {
          "output_type": "stream",
          "name": "stdout",
          "text": [
            "All columns are:  Index(['age', 'job', 'marital', 'education', 'default', 'balance', 'housing',\n",
            "       'loan', 'day', 'month', 'duration', 'campaign', 'pdays', 'previous',\n",
            "       'poutcome', 'target'],\n",
            "      dtype='object')\n",
            "\n",
            "Categorical variables are: ['job', 'marital', 'education', 'month', 'poutcome', 'target']\n",
            "\n",
            "The size of the dataframe after  is:  1797004\n"
          ]
        }
      ],
      "source": [
        "print(\"All columns are: \", bank.columns)\n",
        "\n",
        "catCol = [col for col in bank.columns if bank[col].dtype==\"O\"]\n",
        "print(f\"\\nCategorical variables are: {catCol}\")\n",
        "catCol.remove('target')\n",
        "\n",
        "bank_transformed = pd.get_dummies(bank, columns=catCol)\n",
        "print(\"\\nThe size of the dataframe after  is: \", bank_transformed.size)"
      ]
    },
    {
      "cell_type": "markdown",
      "metadata": {
        "id": "I4JlOoqFVAIM"
      },
      "source": [
        "1.3 Baseline accuracy for this classification"
      ]
    },
    {
      "cell_type": "code",
      "execution_count": 4,
      "metadata": {
        "id": "VUDUlM3DVAIN",
        "colab": {
          "base_uri": "https://localhost:8080/"
        },
        "outputId": "94c232f6-2b04-4f42-fb92-58ed2bc8dba2"
      },
      "outputs": [
        {
          "output_type": "execute_result",
          "data": {
            "text/plain": [
              "0    36202\n",
              "1     4639\n",
              "Name: target, dtype: int64"
            ]
          },
          "metadata": {},
          "execution_count": 4
        }
      ],
      "source": [
        "bank_transformed['target'].replace('yes', 1, inplace=True)\n",
        "bank_transformed['target'].replace('no', 0, inplace=True)\n",
        "bank_transformed.target.value_counts()"
      ]
    },
    {
      "cell_type": "markdown",
      "metadata": {
        "id": "ppQ0gpF0VAIQ"
      },
      "source": [
        "baseline accuracy = 36202/(36202+4639)=0.886"
      ]
    },
    {
      "cell_type": "markdown",
      "metadata": {
        "id": "nKs5-XYmVAIT"
      },
      "source": [
        "##2\n",
        "\n",
        "Split the data into train and test for the outcome/response and the predictor variables. Hold out 30% of observations as the test set.  Pass `random_state=0` to `train_test_split` to ensure you get the same train and tests sets as the solution. Your dependent variable in the the dataset is named as `target`."
      ]
    },
    {
      "cell_type": "code",
      "execution_count": 5,
      "metadata": {
        "id": "F0IeZszTVAIU"
      },
      "outputs": [],
      "source": [
        "X = bank_transformed.drop('target', axis='columns').values\n",
        "y = bank_transformed.target.values\n",
        "\n",
        "Xtrain, Xtest, ytrain, ytest = train_test_split(X, y, test_size=0.3, random_state=0)"
      ]
    },
    {
      "cell_type": "markdown",
      "metadata": {
        "heading_collapsed": true,
        "id": "HXrJWM2pVAIW"
      },
      "source": [
        "##3\n",
        "\n",
        "Read the documentation for [sklearn's `LogisticRegression`](https://scikit-learn.org/stable/modules/generated/sklearn.linear_model.LogisticRegression.html). \n",
        "\n",
        "Note:  \n",
        "\n",
        "1. Logistic Regression uses a penalty by default. The default penalty is \"l2\" penalty. L2 penalty is equal to the square of the magnitude of coefficients. Thus, Logistic Regression uses ridge regression by default.  \n",
        "  \n",
        "    \n",
        "2. If we apply a penalty during learning, the coefficients will approach to zero but not zero.  \n",
        "  \n",
        "    \n",
        "3. If using the default settings of `LogisticRegression` in `sklearn`, we don't need to include extra 1s column because the default value already define the column of to be 1s. Thus, whatever we use a default settings or not, we still already have that column of 1s.\n",
        "\n"
      ]
    },
    {
      "cell_type": "markdown",
      "metadata": {
        "id": "s4r5oRIlVAIX"
      },
      "source": [
        "##4\n"
      ]
    },
    {
      "cell_type": "markdown",
      "metadata": {
        "id": "St-YYuMOVAIY"
      },
      "source": [
        "4.1 Create a instance of sklearn's `LogisticRegression` object for **unpenalized** logistic regression.\n",
        "Using this object, **run a logisitic regression analysis** of `target` (y-variable) against `age`,`default` and `balance` (x-variables) using your training data. Report the parameters of your model as indicated with the `print` function."
      ]
    },
    {
      "cell_type": "code",
      "execution_count": 6,
      "metadata": {
        "id": "wLBVkm5hVAIa"
      },
      "outputs": [],
      "source": [
        "# X_p = bank[['age', 'default', 'balance']].values\n",
        "# Xtrain_p, Xtest_p, ytrain_p, ytest_p = train_test_split(X_p, y, test_size=0.3, random_state=0)\n",
        "\n",
        "BANKLR_P = LogisticRegression(penalty='none')\n",
        "Xtrain4 = Xtrain[:,:3]\n",
        "banklr_fit = BANKLR_P.fit(Xtrain4, ytrain)"
      ]
    },
    {
      "cell_type": "code",
      "execution_count": 7,
      "metadata": {
        "id": "42JIIgNvVAIb",
        "colab": {
          "base_uri": "https://localhost:8080/"
        },
        "outputId": "0ee63cb5-604c-4008-fbe8-63e7e83dd562"
      },
      "outputs": [
        {
          "output_type": "stream",
          "name": "stdout",
          "text": [
            "The parameters of the model asociated to age, default and balance are respectively: [[ 4.79992558e-03 -1.61159655e-01  1.06077252e-04]]\n"
          ]
        }
      ],
      "source": [
        "print(f'The parameters of the model asociated to age, default and balance are respectively: {banklr_fit.coef_}')"
      ]
    },
    {
      "cell_type": "code",
      "execution_count": 8,
      "metadata": {
        "id": "1UDyakjDVAIc",
        "colab": {
          "base_uri": "https://localhost:8080/"
        },
        "outputId": "3bd72de2-cd2b-4ca5-c2d9-1d062ea468f8"
      },
      "outputs": [
        {
          "output_type": "stream",
          "name": "stdout",
          "text": [
            "The intercept of the model is: [-2.37537647]\n"
          ]
        }
      ],
      "source": [
        "print(f'The intercept of the model is: {banklr_fit.intercept_}')"
      ]
    },
    {
      "cell_type": "markdown",
      "metadata": {
        "id": "VJKwvz-NVAId"
      },
      "source": [
        "4.2 Compute the label-based criteria we discussed in the Lesson for your three variables only classifier **using the test data**. Use a threshold of 0.5. (Note that you may have a warning in your code while running the performance matrix and it is designed to have it for this assignment)"
      ]
    },
    {
      "cell_type": "code",
      "execution_count": 9,
      "metadata": {
        "id": "PXgFWRHnVAId"
      },
      "outputs": [],
      "source": [
        "def compute_performance(yhat, y, classes):\n",
        "    # First, get tp, tn, fp, fn\n",
        "    tp = sum(np.logical_and(yhat == classes[1], y == classes[1]))\n",
        "    tn = sum(np.logical_and(yhat == classes[0], y == classes[0]))\n",
        "    fp = sum(np.logical_and(yhat == classes[1], y == classes[0]))\n",
        "    fn = sum(np.logical_and(yhat == classes[0], y == classes[1]))\n",
        "\n",
        "    print(f\"tp: {tp} tn: {tn} fp: {fp} fn: {fn}\")\n",
        "    \n",
        "    # Accuracy\n",
        "    acc = (tp + tn) / (tp + tn + fp + fn)\n",
        "    \n",
        "    # Precision\n",
        "    # \"Of the ones I labeled +, how many are actually +?\"\n",
        "    precision = tp / (tp + fp)\n",
        "    \n",
        "    # Recall\n",
        "    # \"Of all the + in the data, how many do I correctly label?\"\n",
        "    recall = tp / (tp + fn)    \n",
        "    \n",
        "    # Sensitivity\n",
        "    # \"Of all the + in the data, how many do I correctly label?\"\n",
        "    sensitivity = recall\n",
        "    \n",
        "    # Specificity\n",
        "    # \"Of all the - in the data, how many do I correctly label?\"\n",
        "    specificity = tn / (fp + tn)\n",
        "    \n",
        "    # Print results\n",
        "    print(\"Accuracy:\",round(acc,3),\"Recall:\",round(recall,3),\"Precision:\",round(precision,3),\n",
        "          \"Sensitivity:\",round(sensitivity,3),\"Specificity:\",round(specificity,3))\n"
      ]
    },
    {
      "cell_type": "code",
      "execution_count": 10,
      "metadata": {
        "id": "VcwYP53QVAIf",
        "colab": {
          "base_uri": "https://localhost:8080/"
        },
        "outputId": "29d01f83-a97a-4d99-c004-5b60a6ae2e58"
      },
      "outputs": [
        {
          "output_type": "stream",
          "name": "stdout",
          "text": [
            "tp: 0 tn: 10870 fp: 0 fn: 1383\n",
            "Accuracy: 0.887 Recall: 0.0 Precision: nan Sensitivity: 0.0 Specificity: 1.0\n"
          ]
        },
        {
          "output_type": "stream",
          "name": "stderr",
          "text": [
            "/usr/local/lib/python3.7/dist-packages/ipykernel_launcher.py:15: RuntimeWarning: invalid value encountered in long_scalars\n",
            "  from ipykernel import kernelapp as app\n"
          ]
        }
      ],
      "source": [
        "Xtest4 = Xtest[:,:3]\n",
        "ytest_hat = banklr_fit.predict(Xtest4)\n",
        "compute_performance(ytest_hat, ytest, banklr_fit.classes_)"
      ]
    },
    {
      "cell_type": "markdown",
      "metadata": {
        "id": "CTVpnt_6VAIg"
      },
      "source": [
        "Note:  \n",
        "1. There's no test instance are labeled positive.(zero)  \n",
        "\n",
        "\n",
        "2. This classifier reached the baseline accuracy(the accuracy is 0.887, where the baseline accuracy is 0.886). The warning is because the first model tp and fp are 0, which is the denominator.   \n",
        "\n",
        "\n",
        "3. I think this classifier may be not very useful. Considering fp and tp are both 0 here, values like sensitivity， percision are either 0, 1, or nan, which is not meaningful.  \n",
        "\n"
      ]
    },
    {
      "cell_type": "markdown",
      "metadata": {
        "id": "IgnW6UBuVAIh"
      },
      "source": [
        "##5\n",
        "Now fit a logistic regression model with default penalty method to the training data and include all the variables in the data frame (except for `target`) in the cell below. You may want to make a new object like you did for the simpler model."
      ]
    },
    {
      "cell_type": "code",
      "execution_count": 11,
      "metadata": {
        "id": "95P5VpaVVAIi",
        "colab": {
          "base_uri": "https://localhost:8080/"
        },
        "outputId": "b44c4e7a-8609-4d09-cd06-2c986c455191"
      },
      "outputs": [
        {
          "output_type": "stream",
          "name": "stdout",
          "text": [
            "Intercepts: [-0.7654154] \n",
            " Coefficients: [[-4.55948015e-03 -6.32603900e-03  3.57338536e-05 -7.36280823e-01\n",
            "  -3.13064855e-01 -5.83454413e-04  2.49585075e-01 -8.84256265e-02\n",
            "   2.94549208e-04  4.63807725e-02  1.21940853e-01 -2.72595144e-01\n",
            "  -2.95270726e-01 -3.55752865e-01 -6.20747690e-02 -1.14303841e-01\n",
            "   4.56588912e-01 -2.74613489e-01 -1.90842296e-01  4.25875197e-01\n",
            "  -8.27985333e-02 -1.07475672e-01 -2.48570645e-01 -3.78800218e-01\n",
            "  -1.23951509e-01 -4.27472533e-01 -2.73305211e-01 -5.05446276e-02\n",
            "   2.04273470e-01 -5.93040956e-01  2.66912482e-01 -1.25554027e-01\n",
            "  -7.85373214e-01 -7.32758595e-01 -5.23251371e-01  1.51087786e+00\n",
            "  -9.71167984e-01 -7.46511465e-01  9.53780408e-01  7.90491020e-01\n",
            "  -1.02968026e+00  1.42912225e+00 -1.15076436e+00]]\n"
          ]
        }
      ],
      "source": [
        "banklr2 = LogisticRegression(max_iter = 10000)\n",
        "banklr_fit2 = banklr2.fit(Xtrain, ytrain)\n",
        "print(f\"Intercepts: {banklr_fit2.intercept_} \\n Coefficients: {banklr_fit2.coef_}\")"
      ]
    },
    {
      "cell_type": "markdown",
      "metadata": {
        "id": "ypHeyF9nVAIk"
      },
      "source": [
        "##6\n",
        "\n",
        "In the cell below, Compute the label-based criteria we discussed in the Lesson for new classifier using the test data. Use a threshold of 0.5. "
      ]
    },
    {
      "cell_type": "code",
      "execution_count": 12,
      "metadata": {
        "id": "LlzJjA2zVAIk",
        "colab": {
          "base_uri": "https://localhost:8080/"
        },
        "outputId": "a12fe081-dec5-4043-c578-b5df4ea6bdd5"
      },
      "outputs": [
        {
          "output_type": "stream",
          "name": "stdout",
          "text": [
            "tp: 470 tn: 10627 fp: 243 fn: 913\n",
            "Accuracy: 0.906 Recall: 0.34 Precision: 0.659 Sensitivity: 0.34 Specificity: 0.978\n",
            "\n",
            "The number of test instance labeled positive is: 713\n"
          ]
        }
      ],
      "source": [
        "ytest_prob = banklr2.predict_proba(Xtest)\n",
        "ytest_hat = banklr2.classes_[(ytest_prob[:,1] > 0.5).astype(int)]\n",
        "\n",
        "compute_performance(ytest_hat, ytest, banklr2.classes_)\n",
        "print(f\"\\nThe number of test instance labeled positive is: {470 + 243}\")"
      ]
    },
    {
      "cell_type": "markdown",
      "metadata": {
        "id": "ijjDiEr0VAIl"
      },
      "source": [
        "\n",
        "Note:  \n",
        "There are 713 test instances are labeled positive here, and this classifier is better than the previous one, because here have positive tp and fp values. Thus, there can have meaningful sensitivity and percision values.\n"
      ]
    },
    {
      "cell_type": "markdown",
      "metadata": {
        "id": "6mKds6FoVAIl"
      },
      "source": [
        "##7\n",
        "In the cell below, predict the probability coding our own sigmoid function (NOT use the predict function from sklearn). "
      ]
    },
    {
      "cell_type": "code",
      "execution_count": 13,
      "metadata": {
        "id": "VBQPDo2hVAIm"
      },
      "outputs": [],
      "source": [
        "sigmoid=lambda x: 1/ (1 + np.exp(-x))"
      ]
    },
    {
      "cell_type": "code",
      "execution_count": 14,
      "metadata": {
        "id": "ZOqYE4myVAIn",
        "colab": {
          "base_uri": "https://localhost:8080/"
        },
        "outputId": "c61dce34-9594-45ee-86a2-0f90f6df206c"
      },
      "outputs": [
        {
          "output_type": "execute_result",
          "data": {
            "text/plain": [
              "array([[0.10115171],\n",
              "       [0.10390402],\n",
              "       [0.10580318],\n",
              "       [0.11436477],\n",
              "       [0.09866213]])"
            ]
          },
          "metadata": {},
          "execution_count": 14
        }
      ],
      "source": [
        "# First 5 probabilities using part 4 model\n",
        "z = np.dot(Xtest4, banklr_fit.coef_.T) + banklr_fit.intercept_\n",
        "sigmoid(z[0:5,:])"
      ]
    },
    {
      "cell_type": "code",
      "execution_count": 15,
      "metadata": {
        "id": "eYuRiNnWVAIn",
        "colab": {
          "base_uri": "https://localhost:8080/"
        },
        "outputId": "14af9849-4641-41a3-8fbd-2f8a1bdf5e43"
      },
      "outputs": [
        {
          "output_type": "execute_result",
          "data": {
            "text/plain": [
              "array([[0.08053079],\n",
              "       [0.02767177],\n",
              "       [0.03298956],\n",
              "       [0.03148386],\n",
              "       [0.06937633]])"
            ]
          },
          "metadata": {},
          "execution_count": 15
        }
      ],
      "source": [
        "# First 5 probabilities using part 5 model\n",
        "z = np.dot(Xtest, banklr_fit2.coef_.T) + banklr_fit2.intercept_\n",
        "sigmoid(z[0:5,:])"
      ]
    },
    {
      "cell_type": "markdown",
      "metadata": {
        "id": "YTRQDdiYVAIo"
      },
      "source": [
        "Note:  \n",
        "1. The probability given by the sigmoid function will be positive.\n",
        "\n",
        "\n",
        "2. The probability will be smaller, but will not change the real classification results.\n"
      ]
    },
    {
      "cell_type": "markdown",
      "metadata": {
        "id": "uADlUmjvVAIo"
      },
      "source": [
        "##8\n",
        "\n",
        "Plot ROC curves for both of your classifiers using the cells below.\n"
      ]
    },
    {
      "cell_type": "code",
      "execution_count": 16,
      "metadata": {
        "id": "hqbRzZkgVAIp",
        "colab": {
          "base_uri": "https://localhost:8080/",
          "height": 337
        },
        "outputId": "35e262ce-eed3-4fa5-bbce-a9dec6b8d241"
      },
      "outputs": [
        {
          "output_type": "stream",
          "name": "stderr",
          "text": [
            "/usr/local/lib/python3.7/dist-packages/seaborn/_decorators.py:43: FutureWarning: Pass the following variables as keyword args: x, y. From version 0.12, the only valid positional argument will be `data`, and passing other arguments without an explicit keyword will result in an error or misinterpretation.\n",
            "  FutureWarning\n"
          ]
        },
        {
          "output_type": "execute_result",
          "data": {
            "text/plain": [
              "0.5642663476396591"
            ]
          },
          "metadata": {},
          "execution_count": 16
        },
        {
          "output_type": "display_data",
          "data": {
            "image/png": "[encoded data removed]",
            "text/plain": [
              "<Figure size 432x288 with 1 Axes>"
            ]
          },
          "metadata": {
            "needs_background": "light"
          }
        }
      ],
      "source": [
        "# ROC for the simplier classifier\n",
        "import seaborn as sns\n",
        "ytest_prob = banklr_fit.predict_proba(Xtest4)\n",
        "fpr, tpr, _ = roc_curve(ytest, ytest_prob[:,1], pos_label=1)\n",
        "ax = sns.lineplot(fpr,tpr)\n",
        "auc(fpr,tpr)"
      ]
    },
    {
      "cell_type": "code",
      "execution_count": 17,
      "metadata": {
        "id": "Q5cwM7i4VAIp",
        "colab": {
          "base_uri": "https://localhost:8080/",
          "height": 337
        },
        "outputId": "68dcb667-4333-4d59-c871-422dd3ea605b"
      },
      "outputs": [
        {
          "output_type": "stream",
          "name": "stderr",
          "text": [
            "/usr/local/lib/python3.7/dist-packages/seaborn/_decorators.py:43: FutureWarning: Pass the following variables as keyword args: x, y. From version 0.12, the only valid positional argument will be `data`, and passing other arguments without an explicit keyword will result in an error or misinterpretation.\n",
            "  FutureWarning\n"
          ]
        },
        {
          "output_type": "execute_result",
          "data": {
            "text/plain": [
              "0.9115472344229875"
            ]
          },
          "metadata": {},
          "execution_count": 17
        },
        {
          "output_type": "display_data",
          "data": {
            "image/png": "[encoded data removed]",
            "text/plain": [
              "<Figure size 432x288 with 1 Axes>"
            ]
          },
          "metadata": {
            "needs_background": "light"
          }
        }
      ],
      "source": [
        "# ROC for all-variable classifier\n",
        "ytest_prob2 = banklr2.predict_proba(Xtest)\n",
        "\n",
        "fpr, tpr, _ = roc_curve(ytest, ytest_prob2[:,1], pos_label=1)\n",
        "ax = sns.lineplot(fpr,tpr)\n",
        "auc(fpr,tpr)"
      ]
    },
    {
      "cell_type": "markdown",
      "metadata": {
        "id": "g9B7d6KPVAIp"
      },
      "source": [
        "\n",
        "Note:  \n",
        "1. The second one has a higher estimated probability because the auc value is higher.  \n",
        "\n",
        "2. There should be something wrong if the auroc is below 0.5.\n"
      ]
    }
  ],
  "metadata": {
    "kernelspec": {
      "display_name": "Python 3",
      "language": "python",
      "name": "python3"
    },
    "language_info": {
      "codemirror_mode": {
        "name": "ipython",
        "version": 3
      },
      "file_extension": ".py",
      "mimetype": "text/x-python",
      "name": "python",
      "nbconvert_exporter": "python",
      "pygments_lexer": "ipython3",
      "version": "3.8.8"
    },
    "latex_envs": {
      "LaTeX_envs_menu_present": true,
      "autoclose": false,
      "autocomplete": true,
      "bibliofile": "biblio.bib",
      "cite_by": "apalike",
      "current_citInitial": 1,
      "eqLabelWithNumbers": true,
      "eqNumInitial": 1,
      "hotkeys": {
        "equation": "Ctrl-E",
        "itemize": "Ctrl-I"
      },
      "labels_anchors": false,
      "latex_user_defs": false,
      "report_style_numbering": false,
      "user_envs_cfg": false
    },
    "toc": {
      "base_numbering": 1,
      "nav_menu": {},
      "number_sections": true,
      "sideBar": true,
      "skip_h1_title": false,
      "title_cell": "Table of Contents",
      "title_sidebar": "Contents",
      "toc_cell": false,
      "toc_position": {},
      "toc_section_display": true,
      "toc_window_display": false
    },
    "varInspector": {
      "cols": {
        "lenName": 16,
        "lenType": 16,
        "lenVar": 40
      },
      "kernels_config": {
        "python": {
          "delete_cmd_postfix": "",
          "delete_cmd_prefix": "del ",
          "library": "var_list.py",
          "varRefreshCmd": "print(var_dic_list())"
        },
        "r": {
          "delete_cmd_postfix": ") ",
          "delete_cmd_prefix": "rm(",
          "library": "var_list.r",
          "varRefreshCmd": "cat(var_dic_list()) "
        }
      },
      "types_to_exclude": [
        "module",
        "function",
        "builtin_function_or_method",
        "instance",
        "_Feature"
      ],
      "window_display": false
    },
    "colab": {
      "name": "Assignment_3_Clean.ipynb",
      "provenance": [],
      "collapsed_sections": []
    }
  },
  "nbformat": 4,
  "nbformat_minor": 0
}