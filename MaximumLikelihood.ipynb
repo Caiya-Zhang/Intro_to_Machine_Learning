{
  "cells": [
    {
      "cell_type": "markdown",
      "metadata": {
        "id": "m9Rk_yqSWWPM"
      },
      "source": [
        "# Maximum Likelihood\n",
        "\n",
        "\n",
        "The exponential distribution https://en.wikipedia.org/wiki/Exponential_distribution is a continuous probability distribution often used to predict time when an event might ocurr, for instance Earthquake. \n",
        "\n",
        "If we know $y$ is influenced by feature $x$, then we can use the maximum likelihood principle to develop a regression model that estimates the mean of $Y$ given $X=x$."
      ]
    },
    {
      "cell_type": "code",
      "execution_count": 1,
      "metadata": {
        "id": "Xhy3qPFeWWPS"
      },
      "outputs": [],
      "source": [
        "# Packages for this assignment\n",
        "import numpy as np\n",
        "import matplotlib.pyplot as plt\n",
        "import pandas as pd\n",
        "from scipy.optimize import minimize\n",
        "from sklearn.linear_model import LinearRegression\n",
        "%matplotlib inline"
      ]
    },
    {
      "cell_type": "markdown",
      "metadata": {
        "id": "l-V85glRWWPX"
      },
      "source": [
        "###1\n",
        "\n",
        "The negative log likelihood for a exponential random variable is\n",
        "\n",
        "$$\\ell(\\lambda; \\mathbf{y}) = -\\sum_{i=1}^N\\Bigg(\\ln(\\lambda) - \\lambda y_i \\Bigg)$$\n",
        "\n",
        "Here, $\\mathbf{y}=(y_i) \\in \\mathbb{R^N}$ is a vector  and $\\lambda$ is a scalar value.\n",
        "\n",
        "Define a function called `exponentialNegLogLikelihood` that takes a vector  $\\mathbf{y}$ and a parameter $\\lambda$ and returns the negative log likelihood.\n",
        "\n",
        "Test case 1: `lamb = 2` and `y = np.array([1, 4, 6, 0])`.\n",
        "\n",
        "Test case 2: `lamb = np.array([1, 0.5, 2, 5])` and  `y = np.array([1.5, 2.1, 3.4, 0])`."
      ]
    },
    {
      "cell_type": "code",
      "execution_count": 2,
      "metadata": {
        "id": "9HuWZQUIWWPa"
      },
      "outputs": [],
      "source": [
        "def exponentialNegLogLikelihood(lamb, y):\n",
        "    \"\"\"\n",
        "    Computes the negative log likelihood for a Exppnential random variable.\n",
        "\n",
        "    Inputs:\n",
        "    lamb - float or array.  Parameter for the exponential distribution.\n",
        "    y - float or array.  Observed data.\n",
        "\n",
        "    Outputs:\n",
        "    neg_log_lik - float.  The negative log likelihood for data (y) with parameter (lamb).\n",
        "\n",
        "    \"\"\"\n",
        "    neg_log_lik = -np.sum(np.log(lamb)-lamb*y)\n",
        "    return neg_log_lik"
      ]
    },
    {
      "cell_type": "code",
      "execution_count": 3,
      "metadata": {
        "id": "CoLEd2jbWWPb",
        "colab": {
          "base_uri": "https://localhost:8080/"
        },
        "outputId": "6736ed37-2b78-40ad-dd5c-81f3d18c258e"
      },
      "outputs": [
        {
          "output_type": "stream",
          "name": "stdout",
          "text": [
            "First test result is  19.227411277760222 \n",
            "\n",
            "Second test result is  7.740562087565899 \n",
            "\n"
          ]
        }
      ],
      "source": [
        "# Test the function\n",
        "lamb_1 = 2\n",
        "y_1 = np.array([1, 4, 6, 0])\n",
        "print(\"First test result is \", exponentialNegLogLikelihood(lamb_1, y_1), \"\\n\")\n",
        "\n",
        "lamb_2 = np.array([1, 0.5, 2, 5])\n",
        "y_2 = np.array([1.5, 2.1, 3.4, 0])\n",
        "exponentialNegLogLikelihood(lamb_2, y_2)\n",
        "print(\"Second test result is \", exponentialNegLogLikelihood(lamb_2, y_2), \"\\n\")"
      ]
    },
    {
      "cell_type": "code",
      "execution_count": 4,
      "metadata": {
        "id": "AWsPy3sSWWPc",
        "colab": {
          "base_uri": "https://localhost:8080/"
        },
        "outputId": "df4e07e8-9474-4fe9-8f0b-8cb65cd1c883"
      },
      "outputs": [
        {
          "output_type": "stream",
          "name": "stdout",
          "text": [
            "This test result is  7.740562087565899 \n",
            "\n"
          ]
        }
      ],
      "source": [
        "# if call the function with lamb=np.array([1,0.5,2,5]) and y=np.array([1.5,2.1,3.4,0])?\n",
        "lamb_3 = np.array([1,0.5,2,5])\n",
        "y_3 = np.array([1.5,2.1,3.4,0])\n",
        "print(\"This test result is \", exponentialNegLogLikelihood(lamb_3, y_3), \"\\n\")"
      ]
    },
    {
      "cell_type": "code",
      "execution_count": 5,
      "metadata": {
        "id": "3SegQlLvWWPd",
        "colab": {
          "base_uri": "https://localhost:8080/"
        },
        "outputId": "50676a82-d27c-46c5-f926-0e5d10e2f835"
      },
      "outputs": [
        {
          "output_type": "stream",
          "name": "stdout",
          "text": [
            "inf \n",
            "\n",
            "inf \n",
            "\n"
          ]
        },
        {
          "output_type": "stream",
          "name": "stderr",
          "text": [
            "/usr/local/lib/python3.7/dist-packages/ipykernel_launcher.py:13: RuntimeWarning: divide by zero encountered in log\n",
            "  del sys.path[0]\n"
          ]
        }
      ],
      "source": [
        "# if $\\lambda=0$.\n",
        "print(exponentialNegLogLikelihood(0, y_1), \"\\n\")\n",
        "print(exponentialNegLogLikelihood(0, y_2), \"\\n\")"
      ]
    },
    {
      "cell_type": "code",
      "execution_count": 6,
      "metadata": {
        "id": "468hf9zQWWPd",
        "colab": {
          "base_uri": "https://localhost:8080/"
        },
        "outputId": "6aa41fd7-2ef9-4480-94d5-ba26f052452a"
      },
      "outputs": [
        {
          "output_type": "stream",
          "name": "stdout",
          "text": [
            "nan \n",
            "\n",
            "nan \n",
            "\n"
          ]
        },
        {
          "output_type": "stream",
          "name": "stderr",
          "text": [
            "/usr/local/lib/python3.7/dist-packages/ipykernel_launcher.py:13: RuntimeWarning: invalid value encountered in log\n",
            "  del sys.path[0]\n"
          ]
        }
      ],
      "source": [
        "# if $\\lambda$ is negative.\n",
        "print(exponentialNegLogLikelihood(((-1)*lamb_1), y_1), \"\\n\")\n",
        "print(exponentialNegLogLikelihood(((-1)*lamb_2), y_2), \"\\n\")"
      ]
    },
    {
      "cell_type": "markdown",
      "metadata": {
        "id": "3acZdf7fWWPf"
      },
      "source": [
        "1. It will calculate the negative sum of each value of ${log}({λ}_{i})$ - ${λ}_{i}*{y}_{i}$.\n",
        "\n",
        "2. When I set $λ$ to 0, it got a runtime warning because divide by zero is not invalid in log; when I set $λ$ to negative, it got not a number because the value is also invalid in log."
      ]
    },
    {
      "cell_type": "markdown",
      "metadata": {
        "id": "JMGFLbQxWWPg"
      },
      "source": [
        "---\n",
        "\n",
        "### 2\n",
        "\n",
        "Write a function called `exponentialRegressionNegLogLikelihood` that takes as arguments a vector $\\mathbf{y}$ , a design matrix $\\mathbf{X}$ of features, and a vector $\\mathbf{\\beta}$ of parameters. The function should return the negative log likelihood of this dataset, assuming that each element of  $\\mathbf{y}$ is independent, and exponentially distributed with $\\lambda=\\exp(-\\mathbf{X}\\beta)$.\n",
        "\n",
        "Test case:  \n",
        "* `b = np.array([1, 3])`\n",
        "* `X = np.array([[1.4, 2.1, 3], [2.2, 3, 1.5]]).T`\n",
        "* `y = np.array([0, 2.5, 10])`"
      ]
    },
    {
      "cell_type": "code",
      "execution_count": 7,
      "metadata": {
        "id": "aN4BWwFhWWPh"
      },
      "outputs": [],
      "source": [
        "def exponentialRegressionNegLogLikelihood(b, X, y):\n",
        "    \"\"\"\n",
        "    Computes the negative log-likelihood for a exponential regression.\n",
        "\n",
        "    Inputs:\n",
        "    b - array.  Coefficients for the exponential regression\n",
        "    X - array.  Design matrix.\n",
        "    y - array.  Observed outcomes.\n",
        "\n",
        "    Outputs:\n",
        "    log_lik - float.  Negative log likelihood for the exponential regression with coefficients b.\n",
        "\n",
        "    \"\"\"\n",
        "    lamb = np.exp((-1)*np.dot(X, b))\n",
        "    neg_log_lik = exponentialNegLogLikelihood(lamb, y)\n",
        "    return neg_log_lik"
      ]
    },
    {
      "cell_type": "code",
      "execution_count": 8,
      "metadata": {
        "id": "X87ItPELWWPj",
        "colab": {
          "base_uri": "https://localhost:8080/"
        },
        "outputId": "a71b2b92-5ff7-4935-ec85-f55aaa378ec0"
      },
      "outputs": [
        {
          "output_type": "stream",
          "name": "stdout",
          "text": [
            "26.60556862451103 \n",
            "\n"
          ]
        }
      ],
      "source": [
        "# Test your function \n",
        "b = np.array([1, 3])\n",
        "X = np.array([[1.4, 2.1, 3], [2.2, 3, 1.5]]).T\n",
        "y = np.array([0, 2.5, 10])\n",
        "print(exponentialRegressionNegLogLikelihood(b, X, y), \"\\n\")"
      ]
    },
    {
      "cell_type": "markdown",
      "metadata": {
        "id": "RsG7bTIBWWPn"
      },
      "source": [
        "\n",
        "1. There may also be a too large lambda vector value causing a too large neg_log_lik value.  \n",
        "\n",
        "2. Exponential function can help avoid 0 and negative values of $λ$ which is invalid. "
      ]
    },
    {
      "cell_type": "markdown",
      "metadata": {
        "id": "UNOqDSX2WWPp"
      },
      "source": [
        "---\n",
        "###4\n",
        "\n",
        "Define a function called `Prediction` whose arguments are a vector of coefficents $\\beta$ and a design matrix $\\mathbf{X}$, and its outputs are predictions of the form $\\widehat{\\mathbf{y}} = \\exp(\\mathbf{X}\\beta)$. \n",
        "\n",
        "Test case:   \n",
        "* `b = np.array([1, 3])`\n",
        "* `X = np.array([[1.4, 2.1, 3], [2.2, 3, 1.5]]).T`"
      ]
    },
    {
      "cell_type": "code",
      "execution_count": 9,
      "metadata": {
        "id": "PyI9g7T5WWPr"
      },
      "outputs": [],
      "source": [
        "# Definition of the Prediction\n",
        "def Prediction(b, X):\n",
        "    yhat = np.exp(np.dot(X, b))\n",
        "    return yhat"
      ]
    },
    {
      "cell_type": "code",
      "execution_count": 10,
      "metadata": {
        "id": "EjtIJn4rWWPr",
        "colab": {
          "base_uri": "https://localhost:8080/"
        },
        "outputId": "5366ebfb-61a6-40cc-be21-d8967f9a2984"
      },
      "outputs": [
        {
          "output_type": "stream",
          "name": "stdout",
          "text": [
            "[ 2980.95798704 66171.16016838  1808.04241446] \n",
            "\n"
          ]
        }
      ],
      "source": [
        "# Test the function\n",
        "b = np.array([1, 3])\n",
        "X = np.array([[1.4, 2.1, 3], [2.2, 3, 1.5]]).T\n",
        "print(Prediction(b, X), \"\\n\")"
      ]
    },
    {
      "cell_type": "markdown",
      "metadata": {
        "id": "Xc8QDlT6WWPt"
      },
      "source": [
        "---\n",
        "###5\n",
        "\n",
        "Define a function called `Model_fit` which accepts as its first argument a design matrix $\\mathbf{X}$ and as its second argument a vector of $\\mathbf{y}$. Its output should be the maximum likelihood estimates for the coefficients of exponential regression of $\\mathbf{y}$ onto $\\mathbf{X}$.\n",
        "\n",
        "Test case:   \n",
        "* `X = np.array([[1.4, 2.1, 3], [2.2, 3, 1.5]]).T`\n",
        "* `y = np.array([0, 2.5, 10])`"
      ]
    },
    {
      "cell_type": "code",
      "execution_count": 11,
      "metadata": {
        "id": "WprRkxojWWPu"
      },
      "outputs": [],
      "source": [
        "# Define Model_fit\n",
        "def Model_fit(X, y):\n",
        "    \"\"\"\n",
        "    Fits a exponential regression given data and outcomes.\n",
        "\n",
        "    Inputs:\n",
        "    X - array.  Design matrix\n",
        "    y - array.  Observed outcomes\n",
        "\n",
        "    Outputs:\n",
        "    betas_est - array.  Coefficients which maximize the negative log-liklihood.\n",
        "    \"\"\"\n",
        "    # Instantiate a guess for the betas, beta_start, so that the optimizer has somewhere to start\n",
        "    # Keep in mind what shape the beta_start should be. It shoud have the same number of elements as X as columns\n",
        "    beta_start = np.full(len(X[0]), 1)\n",
        "    # Minimize the appropriate likelihood function\n",
        "    mle = minimize(exponentialRegressionNegLogLikelihood, beta_start, args=(X, y), method = \"Powell\", tol = 1e-8)\n",
        "    # Extract the maximum likelihood estimates from the optimizer.\n",
        "    betas = mle.x\n",
        "    return betas"
      ]
    },
    {
      "cell_type": "code",
      "execution_count": 12,
      "metadata": {
        "id": "BwVRCImFWWPv",
        "colab": {
          "base_uri": "https://localhost:8080/"
        },
        "outputId": "e3dc2f5b-d7b5-4536-fe96-38b6a3a82050"
      },
      "outputs": [
        {
          "output_type": "execute_result",
          "data": {
            "text/plain": [
              "array([ 1.1303665 , -0.67600793])"
            ]
          },
          "metadata": {},
          "execution_count": 12
        }
      ],
      "source": [
        "# Show the code to find estimated b\n",
        "X = np.array([[1.4, 2.1, 3], [2.2, 3, 1.5]]).T\n",
        "y = np.array([0, 2.5, 10])\n",
        "Model_fit(X, y)"
      ]
    },
    {
      "cell_type": "markdown",
      "metadata": {
        "id": "MZoXJIQ1WWPw"
      },
      "source": [
        "###6\n",
        "\n",
        "Use the data `exponential_regression.csv` to fit a exponential regression using the functions that you already have created. In this data, $y$ is measured in time units.\n",
        "\n",
        "Plot a scatterplot of the data that includes the model prediction over $x \\in [-2.14, 2.14]$."
      ]
    },
    {
      "cell_type": "code",
      "execution_count": 13,
      "metadata": {
        "id": "5yg4vHgIWWPx",
        "colab": {
          "base_uri": "https://localhost:8080/"
        },
        "outputId": "fd4b7c3b-58f1-4cb0-d783-cdb4265b3690"
      },
      "outputs": [
        {
          "output_type": "stream",
          "name": "stdout",
          "text": [
            "\n",
            "\n",
            "Coefficients which maximize the negative log-liklihood:  [ 0.07120226 -1.75117879]\n"
          ]
        }
      ],
      "source": [
        "# Loading in the data.\n",
        "\n",
        "df = pd.read_csv('exponential_regression.csv', sep=';')\n",
        "\n",
        "# Create the design matrix\n",
        "x = df.x.values.reshape(-1, 1)\n",
        "X = np.c_[np.ones(x.shape[0]), x]\n",
        "y = df.y.values\n",
        "\n",
        "# Find the maximum likelihood estimates for the coefficients for this data\n",
        "betas = Model_fit(X, y)\n",
        "\n",
        "print(\"\\n\")\n",
        "print(\"Coefficients which maximize the negative log-liklihood: \", betas)"
      ]
    },
    {
      "cell_type": "code",
      "execution_count": 14,
      "metadata": {
        "id": "Gc1uIOGIWWPy",
        "colab": {
          "base_uri": "https://localhost:8080/",
          "height": 510
        },
        "outputId": "f39d7367-8717-43e6-dd0b-12861289266f"
      },
      "outputs": [
        {
          "output_type": "display_data",
          "data": {
            "image/png": "[encoded data removed]",
            "text/plain": [
              "<Figure size 720x480 with 1 Axes>"
            ]
          },
          "metadata": {
            "needs_background": "light"
          }
        }
      ],
      "source": [
        "# Scatterplot the data. \n",
        "fig, ax = plt.subplots(dpi=120)\n",
        "df.plot.scatter(\"x\", \"y\", ax=ax, alpha=0.5)\n",
        "\n",
        "exponentialRegressionNegLogLikelihood(betas, X, y)\n",
        "\n",
        "b0, b1 = Model_fit(X, y) \n",
        "\n",
        "# Create the new data to graphic the prediction\n",
        "newx = np.linspace(-2.14, 2.14, 1001).reshape(-1, 1)\n",
        "newX = np.c_[np.ones(newx.shape[0]), newx]\n",
        "\n",
        "\n",
        "# Predictions on the new data\n",
        "y_predicted = np.exp(b0 + b1 * newx)\n",
        "\n",
        "# Finally, plot the predictions on the same graph\n",
        "ax.plot(newx, y_predicted, color=\"red\")\n",
        "\n",
        "plt.tight_layout()\n",
        "plt.title(\"Scatterplot of data with exponential regression line\")\n",
        "plt.savefig(\"exponential_regression.png\")"
      ]
    },
    {
      "cell_type": "markdown",
      "metadata": {
        "id": "4eQ27DO4WWPz"
      },
      "source": [
        "###7\n",
        "\n",
        "Fit a linear regression (ordinary least squares) to the data, and obtain parameter estimates and and plot the predictions over the same range.\n"
      ]
    },
    {
      "cell_type": "code",
      "execution_count": 15,
      "metadata": {
        "id": "c7j81_i5WWP0",
        "colab": {
          "base_uri": "https://localhost:8080/",
          "height": 510
        },
        "outputId": "910f0881-a6a1-420b-fea6-1505c0b92621"
      },
      "outputs": [
        {
          "output_type": "display_data",
          "data": {
            "image/png": "[encoded data removed]",
            "text/plain": [
              "<Figure size 720x480 with 1 Axes>"
            ]
          },
          "metadata": {
            "needs_background": "light"
          }
        }
      ],
      "source": [
        "# fit the linear regression model\n",
        "model = LinearRegression()\n",
        "ols_fit = model.fit(X, y)\n",
        "\n",
        "# Make predictions on the new data\n",
        "y_predicted = model.predict(newX)\n",
        "\n",
        "# Plot a scatter plot of the data and your model's predictions\n",
        "fig, ax = plt.subplots(dpi=120)\n",
        "df.plot.scatter(\"x\", \"y\", ax=ax, alpha=0.5)\n",
        "\n",
        "ax.plot(newx, y_predicted, color=\"red\")\n",
        "\n",
        "plt.tight_layout()\n",
        "plt.title(\"Scatterplot of data with linear regression line\")\n",
        "plt.savefig(\"exponential_regression_sklearn.png\")"
      ]
    },
    {
      "cell_type": "markdown",
      "metadata": {
        "id": "6cDon7VbWWP0"
      },
      "source": [
        "###8\n",
        "\n",
        "When the value of y is measured in time units, y could not be a value smaller than 0. However, the linear regression line can make predictions for negative vlue of y, this can be a problem that we predict negative time data, and a exponential regression model helps to avoid this situation happens."
      ]
    }
  ],
  "metadata": {
    "kernelspec": {
      "display_name": "Python 3",
      "language": "python",
      "name": "python3"
    },
    "language_info": {
      "codemirror_mode": {
        "name": "ipython",
        "version": 3
      },
      "file_extension": ".py",
      "mimetype": "text/x-python",
      "name": "python",
      "nbconvert_exporter": "python",
      "pygments_lexer": "ipython3",
      "version": "3.8.8"
    },
    "colab": {
      "name": "Assignment_2_Clean.ipynb",
      "provenance": [],
      "collapsed_sections": []
    }
  },
  "nbformat": 4,
  "nbformat_minor": 0
}